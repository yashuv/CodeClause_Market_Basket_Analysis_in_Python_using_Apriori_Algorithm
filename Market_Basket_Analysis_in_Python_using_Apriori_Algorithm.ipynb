{
 "cells": [
  {
   "cell_type": "markdown",
   "id": "e7d42f15-fe23-4303-85dc-74c134bbddb4",
   "metadata": {},
   "source": [
    "# Project 02: Market Basket Analysis in Python using Apriori Algorithm\n",
    "<img src='image/img_market_basket.png' height=\"5%\" width=\"50%\">\n",
    "\n",
    "### Submitted By: Yashuv Baskota\n",
    "### Language: Python\n",
    "\n",
    "### Dataset: https://www.kaggle.com/datasets/heeraldedhia/groceries-dataset"
   ]
  },
  {
   "cell_type": "markdown",
   "id": "416c4510-1d19-4472-90d0-e0ccba7382a9",
   "metadata": {
    "jp-MarkdownHeadingCollapsed": true,
    "tags": []
   },
   "source": [
    "#### What is Market Basket Analysis?\n",
    "*Market basket analysis* is a technique for identifying relationships between items in large datasets of customer transactions. It is a valuable tool for data mining and machine learning, and is widely used in retail and e-commerce to identify which items are frequently purchased together in a transaction, with the goal of improving sales and customer loyalty."
   ]
  },
  {
   "cell_type": "markdown",
   "id": "737abac1-dbf9-4870-9850-2b3fd1147fc3",
   "metadata": {},
   "source": [
    "## 1.Importing Libraries"
   ]
  },
  {
   "cell_type": "code",
   "execution_count": null,
   "id": "a409301b-c356-47ce-ab14-ef49c0045da6",
   "metadata": {},
   "outputs": [],
   "source": [
    "import pandas as pd\n",
    "import matplotlib.pyplot as plt\n",
    "import seaborn as sns\n",
    "\n",
    "from mlxtend.frequent_patterns import apriori\n",
    "from mlxtend.frequent_patterns import association_rules\n",
    "\n",
    "import warnings\n",
    "warnings.filterwarnings(\"ignore\")"
   ]
  },
  {
   "cell_type": "markdown",
   "id": "0b4efa9c-50bf-4e2b-81be-e843f9784c80",
   "metadata": {},
   "source": [
    "## 2.Reading the Dataset"
   ]
  },
  {
   "cell_type": "code",
   "execution_count": null,
   "id": "44d70dee-ce5c-4b01-905f-643a063cf7d0",
   "metadata": {},
   "outputs": [],
   "source": [
    "data = pd.read_csv('data/Groceries_dataset.csv')"
   ]
  },
  {
   "cell_type": "code",
   "execution_count": null,
   "id": "b5427de1-630d-4ba0-84fb-a33cffe30ae9",
   "metadata": {},
   "outputs": [],
   "source": [
    "data"
   ]
  },
  {
   "cell_type": "markdown",
   "id": "00b35e7b-44bc-4d77-ac7f-e51f6c87c559",
   "metadata": {
    "tags": []
   },
   "source": [
    "## 3.EDA"
   ]
  },
  {
   "cell_type": "code",
   "execution_count": null,
   "id": "701096c8-7d12-49bc-a0d1-0df277bd35d0",
   "metadata": {},
   "outputs": [],
   "source": [
    "# Get the top 20 most frequently occurring values\n",
    "x = data['itemDescription'].value_counts().sort_values(ascending=False)[:20]"
   ]
  },
  {
   "cell_type": "code",
   "execution_count": null,
   "id": "d9a6e141-dc3d-4501-aba0-ccfb4e9dac38",
   "metadata": {},
   "outputs": [],
   "source": [
    "plt.figure(figsize=(10,6))\n",
    "sns.barplot(x=x.index, y=x.values)\n",
    "plt.xticks(rotation=45)\n",
    "plt.show()"
   ]
  },
  {
   "cell_type": "markdown",
   "id": "c47dba1e-fe1e-4c1e-8bd6-28c26db0cec3",
   "metadata": {},
   "source": [
    "## 4.Apriori Algorithm\n",
    "Market basket analysis is typically implemented using association rule learning, which is a technique for discovering interesting relationships between variables in a dataset. One of the most popular algorithms for association rule learning is the Apriori algorithm, which is used to identify frequent item sets and generate association rules. These rules are evaluated using measures such as support, confidence, and lift, which are used to determine the strength of the association between items.\n",
    "\n",
    "For example, consider a dataset of customer purchases from a grocery store. An association rule might be \"If a customer buys bread, they are likely to also buy butter.\"\n",
    "\n",
    "The `Evaluation metric` used to evaluate the strength of the association between items are: \n",
    "\n",
    "* **Support**: It is a measure of the frequency of an itemset in the dataset. Mathematically, it is calculated as follows:\n",
    "$$support(I) = \\frac{number\\ of\\ transactions\\ containing\\ itemset\\ I}{total\\ number\\ of\\ transactions}$$\n",
    "\n",
    "* **Confidence**: It tells us how often the items a and b occur given that a is bought. It is a measure of the reliability of an association rule. Mathematically, it is calculated as follows:\n",
    "$$confidence(X \\rightarrow Y) = \\frac{support(X \\cup Y)}{support(X)}$$\n",
    "\n",
    "* **Lift**: It is a measure of the strength of an association rule. Mathematically, it is calculated as follows:\n",
    "$$lift(X \\rightarrow Y) = \\frac{confidence(X \\rightarrow Y)}{support(Y)}$$\n",
    "\n",
    "where X and Y are the *antecedent* and *consequent* of the rule, respectively."
   ]
  },
  {
   "cell_type": "code",
   "execution_count": null,
   "id": "ef3eb402-813e-440c-a5c3-4f5232bece20",
   "metadata": {},
   "outputs": [],
   "source": [
    "data['Quantity'] = 1"
   ]
  },
  {
   "cell_type": "code",
   "execution_count": null,
   "id": "43ed92a3-566c-4883-ad8d-7a107f0ca26f",
   "metadata": {},
   "outputs": [],
   "source": [
    "data"
   ]
  },
  {
   "cell_type": "code",
   "execution_count": null,
   "id": "928f36ac-3a60-43a1-81da-0ca792632365",
   "metadata": {},
   "outputs": [],
   "source": [
    "transactions =  data.groupby(['Member_number','itemDescription'])['Quantity'].sum().unstack().reset_index().set_index('Member_number')"
   ]
  },
  {
   "cell_type": "code",
   "execution_count": null,
   "id": "4388ae02-4add-463a-888e-eb1181d272e5",
   "metadata": {},
   "outputs": [],
   "source": [
    "transactions = transactions.fillna(0)"
   ]
  },
  {
   "cell_type": "code",
   "execution_count": null,
   "id": "2c08685b-481a-4c0f-894d-ca2b168cf5da",
   "metadata": {},
   "outputs": [],
   "source": [
    "transactions"
   ]
  },
  {
   "cell_type": "code",
   "execution_count": null,
   "id": "1111f708-25b0-40ea-8fd7-2b69a7122287",
   "metadata": {},
   "outputs": [],
   "source": [
    "def encode(x):\n",
    "    if x <=0:\n",
    "        return 0\n",
    "    elif x>=0:\n",
    "        return 1"
   ]
  },
  {
   "cell_type": "code",
   "execution_count": null,
   "id": "69e336c4-365d-4716-a953-220c394232cf",
   "metadata": {},
   "outputs": [],
   "source": [
    "basket = transactions.applymap(encode)\n",
    "basket"
   ]
  },
  {
   "cell_type": "code",
   "execution_count": null,
   "id": "217ff7d1-f020-4334-a13d-dff4a104320b",
   "metadata": {},
   "outputs": [],
   "source": [
    "from mlxtend.frequent_patterns import apriori\n",
    "from mlxtend.frequent_patterns import association_rules"
   ]
  },
  {
   "cell_type": "code",
   "execution_count": null,
   "id": "019e119e-ae55-4d87-bb0e-e19771ae7dee",
   "metadata": {},
   "outputs": [],
   "source": [
    "frequent_itemset = apriori(basket, min_support=0.06, use_colnames=True)\n",
    "rules = association_rules(frequent_itemset, metric='lift', min_threshold=1)"
   ]
  },
  {
   "cell_type": "code",
   "execution_count": null,
   "id": "ab7e2820-9fe8-4954-be12-efd8884ef4b0",
   "metadata": {},
   "outputs": [],
   "source": [
    "rules.head()"
   ]
  },
  {
   "cell_type": "code",
   "execution_count": null,
   "id": "eda2f30f-ff36-44f8-8bb3-7109f4713973",
   "metadata": {},
   "outputs": [],
   "source": [
    "confidence_threshold = 0.4\n",
    "lift_threshold = 1\n",
    "rules[(rules['confidence'] > confidence_threshold) & (rules['lift'] > lift_threshold)]"
   ]
  },
  {
   "cell_type": "markdown",
   "id": "d724b705-3a9a-4f91-8324-893ea19877d2",
   "metadata": {},
   "source": [
    "## 5. Make Recommendation on Items"
   ]
  },
  {
   "cell_type": "code",
   "execution_count": null,
   "id": "ab7e3a84-7e6c-4a8c-85cb-4435bef31aaa",
   "metadata": {},
   "outputs": [],
   "source": [
    "# recommend items based on single or multiple input item\n",
    "def recommend_items(items, confidence_threshold=0.4, lift_threshold=1):\n",
    "    if isinstance(items, str):\n",
    "        # Select the rules that contain the input item as the antecedent and have a confidence greater than the threshold\n",
    "        recommendations = rules.loc[(rules['antecedents'] == {items}) & (rules['confidence'] > confidence_threshold) & (rules['lift'] > lift_threshold)]\n",
    "    if isinstance(items, list):\n",
    "        recommendations = rules.loc[(rules['antecedents'].apply(lambda x: any(item in x for item in items))) & (rules['confidence'] > confidence_threshold)]\n",
    "    # Extract the consequents of the selected rules as the recommended items\n",
    "    recommended_items = recommendations['consequents'].apply(lambda x: list(x)).tolist()\n",
    "    # Flatten the list of recommended items\n",
    "    recommended_items = [item for sublist in recommended_items for item in sublist if item not in items]\n",
    "    return list(set(recommended_items))"
   ]
  },
  {
   "cell_type": "code",
   "execution_count": null,
   "id": "08a60a5b-5f9e-4fe1-96e5-7e5ff59e6036",
   "metadata": {},
   "outputs": [],
   "source": [
    "# recommend items for single i/p item\n",
    "recommend_items(\"yogurt\")"
   ]
  },
  {
   "cell_type": "code",
   "execution_count": null,
   "id": "9807eb8c-0ce8-41a4-a5fe-a1dc869e8106",
   "metadata": {},
   "outputs": [],
   "source": [
    "# recommend items for multiple i/p items\n",
    "recommend_items([\"rolls/buns\", \"yogurt\"])"
   ]
  },
  {
   "cell_type": "code",
   "execution_count": null,
   "id": "919f6ce2-9d0a-4291-a6c7-5425540e48f2",
   "metadata": {},
   "outputs": [],
   "source": [
    "recommend_items(\"canned beer\")"
   ]
  }
 ],
 "metadata": {
  "kernelspec": {
   "display_name": "Python 3 (ipykernel)",
   "language": "python",
   "name": "python3"
  },
  "language_info": {
   "codemirror_mode": {
    "name": "ipython",
    "version": 3
   },
   "file_extension": ".py",
   "mimetype": "text/x-python",
   "name": "python",
   "nbconvert_exporter": "python",
   "pygments_lexer": "ipython3",
   "version": "3.11.0"
  }
 },
 "nbformat": 4,
 "nbformat_minor": 5
}
